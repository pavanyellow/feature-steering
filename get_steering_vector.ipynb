{
 "cells": [
  {
   "cell_type": "code",
   "execution_count": 1,
   "metadata": {},
   "outputs": [],
   "source": [
    "from generation import Llama\n",
    "import torch\n",
    "import gc\n",
    "import os\n",
    "os.environ['RANK'] = '0'  # Example rank, adjust accordingly\n",
    "os.environ['WORLD_SIZE'] = '1'  # Example world size, adjust accordingly\n",
    "os.environ['MASTER_ADDR'] = 'localhost'  # Example master address\n",
    "os.environ['MASTER_PORT'] = '12355'  # Example master port\n"
   ]
  },
  {
   "cell_type": "code",
   "execution_count": 2,
   "metadata": {},
   "outputs": [
    {
     "name": "stdout",
     "output_type": "stream",
     "text": [
      "> initializing model parallel with size 1\n",
      "> initializing ddp with size 1\n",
      "> initializing pipeline with size 1\n"
     ]
    },
    {
     "name": "stderr",
     "output_type": "stream",
     "text": [
      "/usr/local/lib/python3.10/dist-packages/torch/__init__.py:690: UserWarning: torch.set_default_tensor_type() is deprecated as of PyTorch 2.1, please use torch.set_default_dtype() and torch.set_default_device() as alternatives. (Triggered internally at ../torch/csrc/tensor/python_tensor.cpp:451.)\n",
      "  _C._set_default_tensor_type(t)\n"
     ]
    },
    {
     "name": "stdout",
     "output_type": "stream",
     "text": [
      "Loaded in 37.09 seconds\n"
     ]
    }
   ],
   "source": [
    "\n",
    "llama = Llama.build(ckpt_dir= \"../llama3/Meta-Llama-3-8B-Instruct/\", tokenizer_path=\"../llama3/Meta-Llama-3-8B-Instruct/tokenizer.model\", max_seq_len= 512, max_batch_size = 4, model_parallel_size=1)\n",
    "model = llama.modelr\n",
    "tokenizer = llama.tokenizer"
   ]
  },
  {
   "cell_type": "code",
   "execution_count": 10,
   "metadata": {},
   "outputs": [],
   "source": [
    "\n",
    "\n",
    "\n",
    "prompt_tokens = tokenizer.encode_prompt(\"I came up with a new saying: 'stop and smell the roses' what you think of it\")"
   ]
  },
  {
   "cell_type": "code",
   "execution_count": 11,
   "metadata": {},
   "outputs": [],
   "source": [
    "from model import CollectionHook\n",
    "\n",
    "hook = CollectionHook()"
   ]
  },
  {
   "cell_type": "markdown",
   "metadata": {},
   "source": []
  },
  {
   "cell_type": "code",
   "execution_count": 22,
   "metadata": {},
   "outputs": [],
   "source": [
    "from time import time\n",
    "logits = model(torch.tensor(prompt_tokens).unsqueeze(0),0 , hook)"
   ]
  },
  {
   "cell_type": "code",
   "execution_count": null,
   "metadata": {},
   "outputs": [],
   "source": [
    "\n",
    "\n",
    "llama.generate()"
   ]
  }
 ],
 "metadata": {
  "kernelspec": {
   "display_name": "Python 3 (ipykernel)",
   "language": "python",
   "name": "python3"
  },
  "language_info": {
   "codemirror_mode": {
    "name": "ipython",
    "version": 3
   },
   "file_extension": ".py",
   "mimetype": "text/x-python",
   "name": "python",
   "nbconvert_exporter": "python",
   "pygments_lexer": "ipython3",
   "version": "3.10.12"
  }
 },
 "nbformat": 4,
 "nbformat_minor": 4
}
